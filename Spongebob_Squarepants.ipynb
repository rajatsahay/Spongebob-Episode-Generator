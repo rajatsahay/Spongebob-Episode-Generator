{
  "nbformat": 4,
  "nbformat_minor": 0,
  "metadata": {
    "colab": {
      "name": "Spongebob Squarepants",
      "version": "0.3.2",
      "provenance": [],
      "collapsed_sections": []
    },
    "kernelspec": {
      "name": "python3",
      "display_name": "Python 3"
    }
  },
  "cells": [
    {
      "cell_type": "code",
      "metadata": {
        "id": "wwxeAPdmPj_6",
        "colab_type": "code",
        "colab": {}
      },
      "source": [
        "import os\n",
        "os.environ['DISABLE_COLAB_TF_IMPORT_HOOK'] = '1'"
      ],
      "execution_count": 0,
      "outputs": []
    },
    {
      "cell_type": "code",
      "metadata": {
        "id": "foDPFWuYBG5U",
        "colab_type": "code",
        "outputId": "ee9733f6-bb0f-448c-e73f-55ae48b8a1ad",
        "colab": {
          "base_uri": "https://localhost:8080/",
          "height": 34
        }
      },
      "source": [
        "from __future__ import absolute_import,division,print_function,unicode_literals\n",
        "import tensorflow as tf\n",
        "tf.enable_eager_execution()\n",
        "import numpy as np\n",
        "import os\n",
        "import time\n",
        "import keras"
      ],
      "execution_count": 3,
      "outputs": [
        {
          "output_type": "stream",
          "text": [
            "Using TensorFlow backend.\n"
          ],
          "name": "stderr"
        }
      ]
    },
    {
      "cell_type": "code",
      "metadata": {
        "id": "GIpOSNpfBz6h",
        "colab_type": "code",
        "outputId": "f544bfcd-f722-4a4c-868a-3cb7a1f3dd68",
        "colab": {
          "base_uri": "https://localhost:8080/",
          "height": 121
        }
      },
      "source": [
        "from google.colab import drive\n",
        "drive.mount('/content/drive')"
      ],
      "execution_count": 4,
      "outputs": [
        {
          "output_type": "stream",
          "text": [
            "Go to this URL in a browser: https://accounts.google.com/o/oauth2/auth?client_id=947318989803-6bn6qk8qdgf4n4g3pfee6491hc0brc4i.apps.googleusercontent.com&redirect_uri=urn%3Aietf%3Awg%3Aoauth%3A2.0%3Aoob&scope=email%20https%3A%2F%2Fwww.googleapis.com%2Fauth%2Fdocs.test%20https%3A%2F%2Fwww.googleapis.com%2Fauth%2Fdrive%20https%3A%2F%2Fwww.googleapis.com%2Fauth%2Fdrive.photos.readonly%20https%3A%2F%2Fwww.googleapis.com%2Fauth%2Fpeopleapi.readonly&response_type=code\n",
            "\n",
            "Enter your authorization code:\n",
            "··········\n",
            "Mounted at /content/drive\n"
          ],
          "name": "stdout"
        }
      ]
    },
    {
      "cell_type": "code",
      "metadata": {
        "id": "YJK6Rjm2B1sB",
        "colab_type": "code",
        "colab": {}
      },
      "source": [
        "path_to_file='/content/drive/My Drive/SpongeBobDataset.txt'"
      ],
      "execution_count": 0,
      "outputs": []
    },
    {
      "cell_type": "code",
      "metadata": {
        "id": "X2wiOsH7CuaQ",
        "colab_type": "code",
        "outputId": "9927733b-e8f9-4496-cd9c-640bae282663",
        "colab": {
          "base_uri": "https://localhost:8080/",
          "height": 34
        }
      },
      "source": [
        "with open(path_to_file,'rb') as f:\n",
        "  text=f.read().decode(encoding='utf-8')\n",
        "  '''NOTE: The .txt file which was initially uploaded was throwing\n",
        "  an error as Python could not encode it. However, replacing the file with\n",
        "  a pre-encoded file (in utf-8) fixed it'''\n",
        "#text=text.rstrip('\\n').decode('utf-8')\n",
        "#text=text.split('\\r\\n')\n",
        "print('Length of text: {} charachters'.format(len(text)))"
      ],
      "execution_count": 6,
      "outputs": [
        {
          "output_type": "stream",
          "text": [
            "Length of text: 649746 charachters\n"
          ],
          "name": "stdout"
        }
      ]
    },
    {
      "cell_type": "code",
      "metadata": {
        "id": "nrhj6oXODJVn",
        "colab_type": "code",
        "outputId": "2bbc7391-2208-420c-d761-d010e07e1725",
        "colab": {
          "base_uri": "https://localhost:8080/",
          "height": 54
        }
      },
      "source": [
        "print(text[:250])"
      ],
      "execution_count": 7,
      "outputs": [
        {
          "output_type": "stream",
          "text": [
            "﻿[Following the SpongeBob SquarePants theme song, the brief opening titles show the names of creator Stephen Hillenburg, Derek Drymon and others. The episode opens with a bubble transition, and we see a coral reef under the sea. The camera zooms to i\n"
          ],
          "name": "stdout"
        }
      ]
    },
    {
      "cell_type": "code",
      "metadata": {
        "id": "svSJrLR7EyRj",
        "colab_type": "code",
        "outputId": "5ca55023-3442-4702-c7d7-ecd441ddcc27",
        "colab": {
          "base_uri": "https://localhost:8080/",
          "height": 34
        }
      },
      "source": [
        "#Unique characters\n",
        "vocab=sorted(set(text))\n",
        "print('{} unique characters'.format(len(vocab)))"
      ],
      "execution_count": 8,
      "outputs": [
        {
          "output_type": "stream",
          "text": [
            "102 unique characters\n"
          ],
          "name": "stdout"
        }
      ]
    },
    {
      "cell_type": "code",
      "metadata": {
        "id": "5WZNDbQVGHMg",
        "colab_type": "code",
        "colab": {}
      },
      "source": [
        "#Vectorization of text\n",
        "char2idx={u:i for i,u in enumerate(vocab)}\n",
        "idx2char=np.array(vocab)\n",
        "\n",
        "text_as_int=np.array([char2idx[c] for c in text])"
      ],
      "execution_count": 0,
      "outputs": []
    },
    {
      "cell_type": "code",
      "metadata": {
        "id": "hYF4FcVkGbJp",
        "colab_type": "code",
        "outputId": "ebb83005-8d12-41a8-afa8-6b652d3a2d52",
        "colab": {
          "base_uri": "https://localhost:8080/",
          "height": 440
        }
      },
      "source": [
        "print('{')\n",
        "for char,_ in zip(char2idx,range(20)):\n",
        "  print(' {:4s}: {:3d},'.format(repr(char),char2idx[char]))\n",
        "print(' ...\\n}')\n",
        "\n",
        "print ('{} ---- characters mapped to int ---- > {}'.format(repr(text[:13]), text_as_int[:13]))"
      ],
      "execution_count": 10,
      "outputs": [
        {
          "output_type": "stream",
          "text": [
            "{\n",
            " '\\t':   0,\n",
            " '\\n':   1,\n",
            " '\\r':   2,\n",
            " ' ' :   3,\n",
            " '!' :   4,\n",
            " '\"' :   5,\n",
            " '#' :   6,\n",
            " '$' :   7,\n",
            " '%' :   8,\n",
            " '&' :   9,\n",
            " \"'\" :  10,\n",
            " '(' :  11,\n",
            " ')' :  12,\n",
            " '*' :  13,\n",
            " ',' :  14,\n",
            " '-' :  15,\n",
            " '.' :  16,\n",
            " '/' :  17,\n",
            " '0' :  18,\n",
            " '1' :  19,\n",
            " ...\n",
            "}\n",
            "'\\ufeff[Following t' ---- characters mapped to int ---- > [101  56  36  72  69  69  72  80  66  71  64   3  77]\n"
          ],
          "name": "stdout"
        }
      ]
    },
    {
      "cell_type": "code",
      "metadata": {
        "id": "eJ0vEXtKGwaI",
        "colab_type": "code",
        "outputId": "f4f9807e-f6d4-4c32-a143-84fc5a99b82a",
        "colab": {
          "base_uri": "https://localhost:8080/",
          "height": 101
        }
      },
      "source": [
        "#Max length sentence we want for a single input in characters\n",
        "seq_length=150\n",
        "examples_per_epoch=len(text)//seq_length\n",
        "\n",
        "#create training examples and targets\n",
        "char_dataset=tf.data.Dataset.from_tensor_slices(text_as_int)\n",
        "\n",
        "for i in char_dataset.take(5):\n",
        "  print(idx2char[i.numpy()])"
      ],
      "execution_count": 11,
      "outputs": [
        {
          "output_type": "stream",
          "text": [
            "﻿\n",
            "[\n",
            "F\n",
            "o\n",
            "l\n"
          ],
          "name": "stdout"
        }
      ]
    },
    {
      "cell_type": "code",
      "metadata": {
        "id": "q-0dpcugHAQa",
        "colab_type": "code",
        "outputId": "e83960df-2c37-405b-f4eb-afaeea786615",
        "colab": {
          "base_uri": "https://localhost:8080/",
          "height": 121
        }
      },
      "source": [
        "sequences=char_dataset.batch(seq_length+1,drop_remainder=True)\n",
        "for item in sequences.take(5):\n",
        "  print(repr(''.join(idx2char[item.numpy()])))"
      ],
      "execution_count": 12,
      "outputs": [
        {
          "output_type": "stream",
          "text": [
            "'\\ufeff[Following the SpongeBob SquarePants theme song, the brief opening titles show the names of creator Stephen Hillenburg, Derek Drymon and others. The e'\n",
            "'pisode opens with a bubble transition, and we see a coral reef under the sea. The camera zooms to initiate parallax scrolling, which reveals the city o'\n",
            "'f Bikini Bottom. It continues zooming to show a brown rock, a Moai head, and a pineapple, which each contain inhabitants.]\\r\\nFrench Narrator: Ah, the se'\n",
            "\"a... so fascinating. So wonderful. Here, we see Bikini Bottom, teeming with life. [Shows from left to right Patrick's, Squidward's, and SpongeBob's hou\"\n",
            "\"ses. Zooms in on SpongeBob's house.] Home to one of my favorite creatures, SpongeBob SquarePants. Yes, of course he lives in a pineapple, you silly. [S\"\n"
          ],
          "name": "stdout"
        }
      ]
    },
    {
      "cell_type": "code",
      "metadata": {
        "id": "FhaWBZMWIAkh",
        "colab_type": "code",
        "outputId": "76ef1b97-5549-458b-ac4c-8abbb6bbf7df",
        "colab": {
          "base_uri": "https://localhost:8080/",
          "height": 70
        }
      },
      "source": [
        "def split_input_target(chunk):\n",
        "  input_text=chunk[:-1]\n",
        "  target_text=chunk[1:]\n",
        "  return input_text,target_text\n",
        "dataset=sequences.map(split_input_target)\n",
        "\n",
        "for input_example,target_example in dataset.take(1):\n",
        "  print('Input data: ',repr(''.join(idx2char[input_example.numpy()])))\n",
        "  print('Target data: ',repr(''.join(idx2char[target_example.numpy()])))"
      ],
      "execution_count": 13,
      "outputs": [
        {
          "output_type": "stream",
          "text": [
            "Input data:  '\\ufeff[Following the SpongeBob SquarePants theme song, the brief opening titles show the names of creator Stephen Hillenburg, Derek Drymon and others. The '\n",
            "Target data:  '[Following the SpongeBob SquarePants theme song, the brief opening titles show the names of creator Stephen Hillenburg, Derek Drymon and others. The e'\n"
          ],
          "name": "stdout"
        }
      ]
    },
    {
      "cell_type": "code",
      "metadata": {
        "id": "6sWAF5eeIwyF",
        "colab_type": "code",
        "outputId": "2024064e-ba29-4690-d5a9-6aa80e52f203",
        "colab": {
          "base_uri": "https://localhost:8080/",
          "height": 672
        }
      },
      "source": [
        "#Prediction of next character\n",
        "for i, (input_idx,target_idx) in enumerate(zip(input_example[:13],target_example[:13])):\n",
        "    print(\"Step {:4d}\".format(i))\n",
        "    print(\"  input: {} ({:s})\".format(input_idx, repr(idx2char[input_idx])))\n",
        "    print(\"  expected output: {} ({:s})\".format(target_idx, repr(idx2char[target_idx])))"
      ],
      "execution_count": 14,
      "outputs": [
        {
          "output_type": "stream",
          "text": [
            "Step    0\n",
            "  input: 101 ('\\ufeff')\n",
            "  expected output: 56 ('[')\n",
            "Step    1\n",
            "  input: 56 ('[')\n",
            "  expected output: 36 ('F')\n",
            "Step    2\n",
            "  input: 36 ('F')\n",
            "  expected output: 72 ('o')\n",
            "Step    3\n",
            "  input: 72 ('o')\n",
            "  expected output: 69 ('l')\n",
            "Step    4\n",
            "  input: 69 ('l')\n",
            "  expected output: 69 ('l')\n",
            "Step    5\n",
            "  input: 69 ('l')\n",
            "  expected output: 72 ('o')\n",
            "Step    6\n",
            "  input: 72 ('o')\n",
            "  expected output: 80 ('w')\n",
            "Step    7\n",
            "  input: 80 ('w')\n",
            "  expected output: 66 ('i')\n",
            "Step    8\n",
            "  input: 66 ('i')\n",
            "  expected output: 71 ('n')\n",
            "Step    9\n",
            "  input: 71 ('n')\n",
            "  expected output: 64 ('g')\n",
            "Step   10\n",
            "  input: 64 ('g')\n",
            "  expected output: 3 (' ')\n",
            "Step   11\n",
            "  input: 3 (' ')\n",
            "  expected output: 77 ('t')\n",
            "Step   12\n",
            "  input: 77 ('t')\n",
            "  expected output: 65 ('h')\n"
          ],
          "name": "stdout"
        }
      ]
    },
    {
      "cell_type": "code",
      "metadata": {
        "id": "vfgzgcLaJn7t",
        "colab_type": "code",
        "outputId": "8b3c3c78-aea5-4b9e-eb91-d0155d3cd444",
        "colab": {
          "base_uri": "https://localhost:8080/",
          "height": 34
        }
      },
      "source": [
        "#Batch Size\n",
        "batch_size=64\n",
        "steps_per_epoch=examples_per_epoch/batch_size\n",
        "\n",
        "#buffer size to shuffle the dataset\n",
        "buffer_size=10000\n",
        "\n",
        "dataset=dataset.shuffle(buffer_size).batch(batch_size,drop_remainder=True)\n",
        "print(dataset)"
      ],
      "execution_count": 15,
      "outputs": [
        {
          "output_type": "stream",
          "text": [
            "<DatasetV1Adapter shapes: ((64, 150), (64, 150)), types: (tf.int64, tf.int64)>\n"
          ],
          "name": "stdout"
        }
      ]
    },
    {
      "cell_type": "code",
      "metadata": {
        "id": "v3UXdBukKPWb",
        "colab_type": "code",
        "colab": {}
      },
      "source": [
        "#length of vocabulary in chars\n",
        "vocab_size=len(vocab)\n",
        "#embedding dimensions\n",
        "embedding_dim=256\n",
        "#no. of rnn units (GRU) in this case\n",
        "rnn_units=1024"
      ],
      "execution_count": 0,
      "outputs": []
    },
    {
      "cell_type": "code",
      "metadata": {
        "id": "4PRLfXW7Khm6",
        "colab_type": "code",
        "colab": {}
      },
      "source": [
        "if tf.test.is_gpu_available():\n",
        "  rnn = tf.keras.layers.CuDNNGRU\n",
        "else:\n",
        "  import functools\n",
        "  rnn = functools.partial(\n",
        "    tf.keras.layers.GRU, recurrent_activation='sigmoid')\n",
        "\n",
        "#Taken from tensoflow docs as there was some problem in intializing a CuDNN\n",
        "#layer with a CUDA GPU on Colab. The rnn would probably be the one under the\n",
        "#[else:] block"
      ],
      "execution_count": 0,
      "outputs": []
    },
    {
      "cell_type": "code",
      "metadata": {
        "id": "njpNXgZFKozS",
        "colab_type": "code",
        "colab": {}
      },
      "source": [
        "def build_model(vocab_size, embedding_dim, rnn_units, batch_size):\n",
        "  model = tf.keras.Sequential([\n",
        "    tf.keras.layers.Embedding(vocab_size, embedding_dim,\n",
        "                              batch_input_shape=[batch_size, None]),\n",
        "    rnn(rnn_units,\n",
        "        return_sequences=True,\n",
        "        recurrent_initializer='glorot_uniform',\n",
        "        stateful=True),\n",
        "    tf.keras.layers.Dense(vocab_size)\n",
        "  ])\n",
        "  return model"
      ],
      "execution_count": 0,
      "outputs": []
    },
    {
      "cell_type": "code",
      "metadata": {
        "id": "y0gXKki9LX3Y",
        "colab_type": "code",
        "colab": {}
      },
      "source": [
        "model = build_model(\n",
        "  vocab_size = len(vocab),\n",
        "  embedding_dim=embedding_dim,\n",
        "  rnn_units=rnn_units,\n",
        "  batch_size=batch_size)"
      ],
      "execution_count": 0,
      "outputs": []
    },
    {
      "cell_type": "code",
      "metadata": {
        "id": "2USDj-kyLmrs",
        "colab_type": "code",
        "outputId": "2defd144-b159-4502-b3c7-9da52283b84c",
        "colab": {
          "base_uri": "https://localhost:8080/",
          "height": 34
        }
      },
      "source": [
        "for input_example_batch, target_example_batch in dataset.take(1):\n",
        "  example_batch_predictions = model(input_example_batch)\n",
        "  print(example_batch_predictions.shape, \"# (batch_size, sequence_length, vocab_size)\")"
      ],
      "execution_count": 20,
      "outputs": [
        {
          "output_type": "stream",
          "text": [
            "(64, 150, 102) # (batch_size, sequence_length, vocab_size)\n"
          ],
          "name": "stdout"
        }
      ]
    },
    {
      "cell_type": "code",
      "metadata": {
        "id": "POCHya6LNemP",
        "colab_type": "code",
        "colab": {
          "base_uri": "https://localhost:8080/",
          "height": 252
        },
        "outputId": "506c5b73-00fc-4470-dc8a-d486ab4d0862"
      },
      "source": [
        "model.summary()"
      ],
      "execution_count": 21,
      "outputs": [
        {
          "output_type": "stream",
          "text": [
            "Model: \"sequential\"\n",
            "_________________________________________________________________\n",
            "Layer (type)                 Output Shape              Param #   \n",
            "=================================================================\n",
            "embedding (Embedding)        (64, None, 256)           26112     \n",
            "_________________________________________________________________\n",
            "gru (GRU)                    (64, None, 1024)          3935232   \n",
            "_________________________________________________________________\n",
            "dense (Dense)                (64, None, 102)           104550    \n",
            "=================================================================\n",
            "Total params: 4,065,894\n",
            "Trainable params: 4,065,894\n",
            "Non-trainable params: 0\n",
            "_________________________________________________________________\n"
          ],
          "name": "stdout"
        }
      ]
    },
    {
      "cell_type": "code",
      "metadata": {
        "id": "5PZpZcQYS44I",
        "colab_type": "code",
        "colab": {}
      },
      "source": [
        "sampled_indices=tf.random.categorical(example_batch_predictions[0],num_samples=1)\n",
        "sampled_indices=tf.squeeze(sampled_indices,axis=-1).numpy()"
      ],
      "execution_count": 0,
      "outputs": []
    },
    {
      "cell_type": "code",
      "metadata": {
        "id": "hEdig4xuTOYb",
        "colab_type": "code",
        "colab": {
          "base_uri": "https://localhost:8080/",
          "height": 218
        },
        "outputId": "43a5da24-9868-4fd4-a1ff-d1f62f71a76f"
      },
      "source": [
        "sampled_indices "
      ],
      "execution_count": 23,
      "outputs": [
        {
          "output_type": "execute_result",
          "data": {
            "text/plain": [
              "array([  4,  71,  68,  95,  97,  92,  91, 101,  37,  28,  41,  74,   2,\n",
              "         2,  83,  51,  33,  54,  51,  64,  93,  25,  44,  85,  87,  63,\n",
              "        46,  81,  54,  27,  34,  26,  75,  16,  13,  67,  26,  96,  38,\n",
              "        52,  95,  35,  19,  37,  43,  15,  78,  92,  29,  54,  30,  61,\n",
              "        90,  48,   5,  39,  71,  91,  91,  83,  39,  17,  87,  73,  79,\n",
              "        81,  22,  42,  30,  40,  60,  57,  64,  56,  70,  61,  31,  36,\n",
              "        25,  73,  35,  56,  70,  11,  92,  13, 100,  79,  82,  26,  66,\n",
              "        82,  40,  60,  51,  78,  57,  10,   9,  76,  44,  39,  71,  78,\n",
              "        80,  88,  40, 100,  37,  94,  80,  62,  11,  47, 101,  42,  24,\n",
              "        78,  84,  96,  37,  91,  65,  10,  69,  76,  56,  76,  55,  36,\n",
              "         3,  40,  38,  93,  12,  14,  40,  25,  12,  17,  93,  31,  98,\n",
              "        87,   4,  17,  32,   3,  69, 100])"
            ]
          },
          "metadata": {
            "tags": []
          },
          "execution_count": 23
        }
      ]
    },
    {
      "cell_type": "code",
      "metadata": {
        "id": "gqg8UnpyTQrv",
        "colab_type": "code",
        "colab": {
          "base_uri": "https://localhost:8080/",
          "height": 121
        },
        "outputId": "28c6bc55-9296-4c9f-9f58-09e2d1fb5e06"
      },
      "source": [
        "#sample predictions from untrained model\n",
        "print('Input: \\n',repr(''.join(idx2char[input_example_batch[0]])))\n",
        "print()\n",
        "print('Next Char Predictions: \\n',repr(''.join(idx2char[sampled_indices ])))"
      ],
      "execution_count": 24,
      "outputs": [
        {
          "output_type": "stream",
          "text": [
            "Input: \n",
            " \"d his name is...SpongeBob SquarePants! [echoes] SpongeBob SquarePants! SpongeBob SquarePants! [fades to a vision of Mrs. Puff's fears] La La La La! [h\"\n",
            "\n",
            "Next Char Predictions: \n",
            " '!nk♪뒤“’\\ufeffG:Kq\\r\\rzUCYUg”7N¿ïfPxY9D8r.*j8가HV♪E1GM-u“;Y?d‘R\"In’’zI/ïpvx4L?Jc]g[mdAF7pE[m(“*으vy8iyJcUu]\\'&sNInuw–J으G…we(Q\\ufeffL6u¢가G’h\\'ls[sZF JH”),J7)/”A로ï!/B l으'\n"
          ],
          "name": "stdout"
        }
      ]
    },
    {
      "cell_type": "code",
      "metadata": {
        "id": "SGaTd2FPTrWu",
        "colab_type": "code",
        "colab": {
          "base_uri": "https://localhost:8080/",
          "height": 50
        },
        "outputId": "194380ad-5711-4b47-dca6-4be4d3c41d9c"
      },
      "source": [
        "def loss(labels,logits):\n",
        "  return tf.keras.losses.sparse_categorical_crossentropy(labels,logits,from_logits=True)\n",
        "\n",
        "example_batch_loss=loss(target_example_batch,example_batch_predictions)\n",
        "print('Prediction Shape: ',example_batch_predictions.shape)\n",
        "print('Scalar Loss: ',example_batch_loss.numpy().mean())"
      ],
      "execution_count": 25,
      "outputs": [
        {
          "output_type": "stream",
          "text": [
            "Prediction Shape:  (64, 150, 102)\n",
            "Scalar Loss:  4.6257887\n"
          ],
          "name": "stdout"
        }
      ]
    },
    {
      "cell_type": "code",
      "metadata": {
        "id": "gkAzqwZlUcdt",
        "colab_type": "code",
        "colab": {}
      },
      "source": [
        "model.compile(optimizer=tf.train.AdamOptimizer(),loss=loss)"
      ],
      "execution_count": 0,
      "outputs": []
    },
    {
      "cell_type": "code",
      "metadata": {
        "id": "-C58ic8sUnFU",
        "colab_type": "code",
        "colab": {}
      },
      "source": [
        "#Configuring Checkpoints\n",
        "checkpoint_dir='./training_checkpoints'\n",
        "#Name of the checkpoint files\n",
        "checkpoint_prefix=os.path.join(checkpoint_dir,'ckpt_{epoch}')\n",
        "\n",
        "checkpoint_callback=tf.keras.callbacks.ModelCheckpoint(\n",
        "filepath=checkpoint_prefix,\n",
        "save_weights_only=True)"
      ],
      "execution_count": 0,
      "outputs": []
    },
    {
      "cell_type": "code",
      "metadata": {
        "id": "ElqWd_0KVMn9",
        "colab_type": "code",
        "colab": {
          "base_uri": "https://localhost:8080/",
          "height": 521
        },
        "outputId": "aabee6f3-1128-4d0e-e505-4291d5e9b0d5"
      },
      "source": [
        "epochs=15\n",
        "history=model.fit(dataset.repeat(),epochs=epochs,steps_per_epoch=steps_per_epoch,\n",
        "                 callbacks=[checkpoint_callback])"
      ],
      "execution_count": 28,
      "outputs": [
        {
          "output_type": "stream",
          "text": [
            "Epoch 1/15\n",
            "68/67 [==============================] - 1069s 16s/step - loss: 3.3859\n",
            "Epoch 2/15\n",
            "68/67 [==============================] - 994s 15s/step - loss: 2.2316\n",
            "Epoch 3/15\n",
            "68/67 [==============================] - 1047s 15s/step - loss: 1.9533\n",
            "Epoch 4/15\n",
            "68/67 [==============================] - 1026s 15s/step - loss: 1.7883\n",
            "Epoch 5/15\n",
            "68/67 [==============================] - 983s 14s/step - loss: 1.6614\n",
            "Epoch 6/15\n",
            "68/67 [==============================] - 1009s 15s/step - loss: 1.5497\n",
            "Epoch 7/15\n",
            "68/67 [==============================] - 1025s 15s/step - loss: 1.4587\n",
            "Epoch 8/15\n",
            "68/67 [==============================] - 1012s 15s/step - loss: 1.3819\n",
            "Epoch 9/15\n",
            "68/67 [==============================] - 1003s 15s/step - loss: 1.3183\n",
            "Epoch 10/15\n",
            "68/67 [==============================] - 1024s 15s/step - loss: 1.2637\n",
            "Epoch 11/15\n",
            "68/67 [==============================] - 1004s 15s/step - loss: 1.2187\n",
            "Epoch 12/15\n",
            "68/67 [==============================] - 1003s 15s/step - loss: 1.1802\n",
            "Epoch 13/15\n",
            "68/67 [==============================] - 1005s 15s/step - loss: 1.1397\n",
            "Epoch 14/15\n",
            "68/67 [==============================] - 1002s 15s/step - loss: 1.1084\n",
            "Epoch 15/15\n",
            "68/67 [==============================] - 1003s 15s/step - loss: 1.0732\n"
          ],
          "name": "stdout"
        }
      ]
    },
    {
      "cell_type": "code",
      "metadata": {
        "id": "cEcNaQb3VgGl",
        "colab_type": "code",
        "colab": {
          "base_uri": "https://localhost:8080/",
          "height": 34
        },
        "outputId": "7a581371-eba5-41f9-aee6-39933375361e"
      },
      "source": [
        "tf.train.latest_checkpoint(checkpoint_dir)"
      ],
      "execution_count": 29,
      "outputs": [
        {
          "output_type": "execute_result",
          "data": {
            "text/plain": [
              "'./training_checkpoints/ckpt_15'"
            ]
          },
          "metadata": {
            "tags": []
          },
          "execution_count": 29
        }
      ]
    },
    {
      "cell_type": "code",
      "metadata": {
        "id": "1SkMvd8ehXln",
        "colab_type": "code",
        "colab": {}
      },
      "source": [
        "model=build_model(vocab_size,embedding_dim,rnn_units,batch_size=1)\n",
        "model.load_weights(tf.train.latest_checkpoint(checkpoint_dir))\n",
        "model.build(tf.TensorShape([1,None]))"
      ],
      "execution_count": 0,
      "outputs": []
    },
    {
      "cell_type": "code",
      "metadata": {
        "id": "fjPs1pmMhsNB",
        "colab_type": "code",
        "colab": {
          "base_uri": "https://localhost:8080/",
          "height": 252
        },
        "outputId": "0dcc91c1-f70d-4d7c-ed39-dbc268554ba4"
      },
      "source": [
        "model.summary()"
      ],
      "execution_count": 31,
      "outputs": [
        {
          "output_type": "stream",
          "text": [
            "Model: \"sequential_1\"\n",
            "_________________________________________________________________\n",
            "Layer (type)                 Output Shape              Param #   \n",
            "=================================================================\n",
            "embedding_1 (Embedding)      (1, None, 256)            26112     \n",
            "_________________________________________________________________\n",
            "gru_1 (GRU)                  (1, None, 1024)           3935232   \n",
            "_________________________________________________________________\n",
            "dense_1 (Dense)              (1, None, 102)            104550    \n",
            "=================================================================\n",
            "Total params: 4,065,894\n",
            "Trainable params: 4,065,894\n",
            "Non-trainable params: 0\n",
            "_________________________________________________________________\n"
          ],
          "name": "stdout"
        }
      ]
    },
    {
      "cell_type": "code",
      "metadata": {
        "id": "y2OlfaWZht21",
        "colab_type": "code",
        "colab": {}
      },
      "source": [
        "#Taken from tensorflow rnn docs\n",
        "def generate_text(model, start_string):\n",
        "  # Evaluation step (generating text using the learned model)\n",
        "\n",
        "  # Number of characters to generate\n",
        "  num_generate = 10000\n",
        "\n",
        "  # Converting our start string to numbers (vectorizing)\n",
        "  input_eval = [char2idx[s] for s in start_string]\n",
        "  input_eval = tf.expand_dims(input_eval, 0)\n",
        "\n",
        "  # Empty string to store our results\n",
        "  text_generated = []\n",
        "\n",
        "  # Low temperatures results in more predictable text.\n",
        "  # Higher temperatures results in more surprising text.\n",
        "  # Experiment to find the best setting.\n",
        "  temperature = 1.0\n",
        "\n",
        "  # Here batch size == 1\n",
        "  model.reset_states()\n",
        "  for i in range(num_generate):\n",
        "      predictions = model(input_eval)\n",
        "      # remove the batch dimension\n",
        "      predictions = tf.squeeze(predictions, 0)\n",
        "\n",
        "      # using a multinomial distribution to predict the word returned by the model\n",
        "      predictions = predictions / temperature\n",
        "      predicted_id = tf.multinomial(predictions, num_samples=1)[-1,0].numpy()\n",
        "\n",
        "      # We pass the predicted word as the next input to the model\n",
        "      # along with the previous hidden state\n",
        "      input_eval = tf.expand_dims([predicted_id], 0)\n",
        "\n",
        "      text_generated.append(idx2char[predicted_id])\n",
        "\n",
        "  return (start_string + ''.join(text_generated))"
      ],
      "execution_count": 0,
      "outputs": []
    },
    {
      "cell_type": "code",
      "metadata": {
        "id": "aXhirSk-iDN7",
        "colab_type": "code",
        "colab": {
          "base_uri": "https://localhost:8080/",
          "height": 1000
        },
        "outputId": "a1e261c8-d873-4fe4-bf47-a49d9086f3d1"
      },
      "source": [
        "print(generate_text(model,start_string=u\"SpongeBob: \"))"
      ],
      "execution_count": 35,
      "outputs": [
        {
          "output_type": "stream",
          "text": [
            "SpongeBob: [he pulls a button on the floor] Much man leftbing on the bubble! Do you think yes?!\r\n",
            "SpongeBob: Uh, what's that.\r\n",
            "Patrick: What's no one: Texas saud shase we can come need feel you bo this bike!\r\n",
            "Plankton: Polo. How did you're heard of chashes?\r\n",
            "Patrick: Yeah!\r\n",
            "Squidward: [comes up and dall] from my boy and pet you were a Bike!\r\n",
            "Patrick: Get out on that pizza! [Holds up a rock snack] Beware the one? [SpongeBob insides read] Dah-23! Hell's memberiver evsleamer.\r\n",
            "[Mr. Krabs tries all the horaps from him. Patrick warks to the kitting your complete safily. He didn't know how to tie that, scary thought becoming missing mator cash togelity.\r\n",
            "Bubble Bass: There's only like things from Sandy. [he pulls laughing]\r\n",
            "Pearl: Don't was just happened?\r\n",
            "Putty: Whoaing through it, rings!\r\n",
            "Old: Darn it. Let me sigh $5:0000 well get my signy. [nozing mink, I in that plane.\r\n",
            "SpongeBob: Patrick! Why don't leaving it. Get Giant Krabby Patty. Perch Perkeds the screen] Those are knows! [walks outside. Lands on his head of the pineall chuckles off.] Hay! [gaach starts beep breath! Plankton! Let me go. [Patrick liaterr reglects to the mermaid of underward: And the pizza's in in the standlegene! Ugh... I'm gum it tomourd.\r\n",
            "SpongeBob: Karen! Peow, Tell Hi, Mr. Krabs, ceed me Zosing watches hand.]\r\n",
            "[Plankton grabs through the door. on the bus sticks right in money]\r\n",
            "Colice of SpongeBob hides. Squidward's making a coconutiously bull. He driving them drink over to SpongeBob.]\r\n",
            "Patrick: SpongeBob, I'm foring the loop of donter. [shakes Mr. Krabs' bewn. At least me from left and head by. SpongeBob legs around the goofy in stort now! [pulls the train black in the front of grown-wishbacret, twisting the pare from for his bill.]\r\n",
            "Plankton: adwhas this, sir! I want you adreaver lady to but on the back. Bicking chrectime Wheak it at the mooor, boy!\r\n",
            "SpongeBob: I need works. [up the customer] Affers and the Line Zrandy present at SpongeBob's clarinet in back.\r\n",
            "Mr. Krabs: Whhh. On your performials. [stops fulling SpongeBob on the boxestrong to write] Don't leas! There's a newd. Squidward Back the town flap of bed with three chair. [SpongeBob runs out of his nable]\r\n",
            "Patrick: Goody's birthday! [The screen then shakes Patrick's back and Sandy reaches into the mance jazz. He's byet are driffs white is in a piach others]\r\n",
            "Sandy: Bye, Patrick, wait... [gasp crowd] Ah, uh, I happen? Wow! Auntie Guy dance.\r\n",
            "SpongeBob: What! He's singared, batcha!\r\n",
            "Macadamia: He's got you alone in the hally getting out. Or hads. You gotta get to a while, I said it.\r\n",
            "Patrick: It's okay! I'm three beed! Just got ketchup, all alone.\r\n",
            "Squidward: Patrick, I'm feeling backs.\r\n",
            "Patrick: [a problemw, sighs] In could.\r\n",
            "Fish #6: Thank you, Six yad...\r\n",
            "Patty: [mook] Nexlaps the largest.]. Hy barnacles, Mr. Krabs, are been. (cut to SpongeBob and Krabby Patty]\r\n",
            "SpongeBob: [to traim of the bubble] Scrap-da!?\r\n",
            "Patrick: [from the restaurant] No! Pretty lady with her, barnacles many ya completely a Kear mis... [hook lasty and fworts again.]\r\n",
            "Mr. Krabs: What's in SpongeBob and Patrick we heard is propplame and gimmeric]\r\n",
            "Hazelnut: There's a bows like] Ahh! Will blow it. [tries to tie me.\r\n",
            "Patrick: [puts bed me.]\r\n",
            "Plankton: So hugg, ma proces on tostrair, he sees Plankton inside dVeeting to see a cate ropes the Krusty Krab! Get to the glove other dey, his are heard caps hits the kitchen. The Glove World! Oh, I drives. Gommy.\r\n",
            "SpongeBob: [i-ward says3\"\r\n",
            "SpongeBob: Patrick, procely manter on your opplitter and well in lung away and laughs. [Patrick screams] I'm not speaking go from his protula! [the two, three Gary's shell again singing] Icading your patty, running arone zare.\r\n",
            "Patrick: And this some closees, boy. [SpongeBob pleasiver to things on the ground, balling faush water behind up jellyfish, through SpongeBob in s hears and hang. [he sees Patrick in the pitchy] Look, I think we're dircy out there, owners!\r\n",
            "Plankton: Oh, I need to know! [Gary his shins to shocked] Time to just shoalpept on one of the gertimeft chawnet.\r\n",
            "Squidward: Beadame he's got to iclory of cirrainer, exection. Oh here open up Mr. Krabs another rain of the saning, revealive the floor. Acces and draw that leass performs in hadn's elough and with SpongeBob in a missow? Patrick so he chmers over to the dace parsonal he cash again. Patrick then he takes to reverle SpongeBob crimbering at his reaso, but becides it. The bawn kits attackl) Not up!\"SpongeBob! [the anthe more] Iing torat's on a plate wood knot gottons come! [Whater the anchovies Jelly but the sleep] There's nothing the Chum Bucket.\r\n",
            "Squidward: [what quilting his biep. I, caught it to check on them come into him into the kion, hits him up. The winder with a boat, and appears in the bad] Weloola sticker!\r\n",
            "Making Bobble. Patrick. He dressed like it! You made your carry! [A heart screams] Ready to for all this working at real! [reaches inco cets his now in the bab!\r\n",
            "SpongeBob: Patty! [Grabs the kitchen his head out] Livery up hine.\r\n",
            "Plankton: Ahth! [Hazel's The door. Patrick walks up to Plankton] I'm out of this mouth activate. [the rest of the tired shoe and his ears over Squidward and run off]\r\n",
            "SpongeBob: Now!\r\n",
            "Patrick: [While leaving the Undenly] Ohh, I wasning falls by to [Pink hand, then and the screen seas with the statuear exproty myself] After SpongeBob's park.\r\n",
            "Outhemoa dand, can take it! The right from that getture. [got to biint of the boat.]\r\n",
            "Squidward: Atree! [Plankton coves out usis buard puzzle] Yeah... got at him or gum?! [The scene cuts the lightly hard for key to teater clothes]\r\n",
            "Window Pift: Whoad what?\r\n",
            "SpongeBob: [Laughs] I'm been really love me!\r\n",
            "Patrick: Oh, I'll darn Squidward. We've got... [grabs Glove Door, but Mr. Krabsward's Gary's sleeped than falls. Gary and SpongeBob drop his drinks. They hand him back with a temebreak new mind. Weahhh!\r\n",
            "SpongeBob: [as one as Gramma, she scrom Gary's sining and puts the doorbier.]\r\n",
            "SpongeBob: Patrick, I'm Texas it up the narry how hid throught he can stand that.\r\n",
            "Plankton: Hey, I didn't neer in their headners... [Gary has driver?\r\n",
            "SpongeBob: [contenuis like one of the Krusty Krab]\r\n",
            "Plankton: Ah, yes. [SpongeBob & Patrick: I was just hend a topongeBob: [sneBlaps: It's like to stre cluby's bear from the resistacked out.] With these place to right Plankton without by lying. Oh good for SpongeBob takes the formula, say. (places SpongeBob's snamm, gimplaces his grabs him with up, reading a nat on his head me coming bax]\r\n",
            "Patrick Junirry as Plankton pows his finish...\r\n",
            "Patrick: [Patrick is rookie whole to bus and turns it on his fog with flying wriling the dirlormalls out. Ews gimme with a rappor things and turn to hear the sandy]\r\n",
            "SpongeBob & Barnacle: Alo.\r\n",
            "SpongeBob:\r\n",
            "Bubble Bass: There you got a trashcad messing out.\r\n",
            "Mr. Krabs: What? [Gary stops.] Ur...uh. First up that-box..\r\n",
            "SpongeBob: Sure we keep this acepentite, where do in the honk, I did? [ralled norice.]\r\n",
            "Outhouse. Off mercister.\r\n",
            "Plankton: Whatever you going? Look at the customer? You can reany the trash jellyfish net in front of there! You're mind starts share while SpongeBob are spairs on his. [Epposes just he he is station and talking to the knot. Stapicales to show a long and stands into a guy to seen a mistally square suttible, Patrick opens the box] A dondert all alone, lifter: Huh? That's sen. To one like eather lise.\r\n",
            "Strangler: Splang?\" From dracks. Hes feeling chasing back. Anl of the door, SpongeBob pesident.\r\n",
            "Cranking Strankler:  Worp!\" end the shreet from him, sawaking; Mr. Krabs Walks outbo you the hatch of that repeated! I won't get him. Squidward! Why, thanks.]\r\n",
            "SpongeBob: Wait! I must be on that beat...\r\n",
            "Patrick: We went to check that good. It's just a lobster. [does] Aw.\r\n",
            "SpongeBob: Oh, eye the key\r\n",
            "Mrs. Puff: (in his racket or laughs] I'm sayed! A loud and stuffs this Texas to sleip’s ant turns ition. Patrick tasks all the nerroble strange. SpongeBob crashes into SpongeBob] Hey, what's only think I'm oldor traningeBob Krabby... yeats!\r\n",
            "SpongeBob: A think's much for me. [gigglise picks up a jelly bus, they was out...\r\n",
            "Sandy: I think you're right. Your immediarals wake. Garonaalary! [hands Patrick's beautiful out of the beain! Okay, SpongeBob. [opens up a little head. Patrick enters his crash cain.]\r\n",
            "Patrick's head] Yeah, I'm not water. I miniticess you're a black shup them ladey. Gary! Haw you learned with that?\r\n",
            "Mr. Krabs: Another money] Come on, Patrick there's no cure is walking into his baKratin in the dark. The ball'fly brink is really falllywithing] Open your clarinet! [pudils in backward] Narry, too later...\r\n",
            "[Punches up to him] You're all the entire rower frep from the woele ever hear...Ah-hi--z-h-h-hah!\r\n",
            "Squidward: [cramps] We did not... at out, and many whice on it. We can do that thiught smell that readon and glare to saved any, in frenk. [Patrick bears the box, hurds him frozer. The pizza of nothing lasind that ho sure, it's nimbor in there inside a branciful walking onto his body, years in the buildings.]\r\n",
            "SpongeBob: We can't diving the sale... shipping like. I'm head. Sponge. bathy turns up was on ther eye]\r\n",
            "Patrick: One suck and the one still interways; greem officer gies! Hey, why did you shivy mine.\r\n",
            "SpongeBob: Mush rubbur new....?A\r\n",
            "Plankton: Ah, clear you want with the beam?\r\n",
            "Mr. Krabs: Flose!\r\n",
            "Mobou ¿eBob back. Ah he pulls him in a mumblen exptcious and then litheres him as he fales] Patrick?\r\n",
            "Patrick: Ahh, uhh, I don't need a sponle he fast farmmers at Sandy's trass the balloof! [playing Manie with her door] ...not me today pireally! Now, leann. [gasps and puts his pincelar] Sticky up.\r\n",
            "SpongeBob: You can help this thing off id old buses?\r\n",
            "SpongeBob: What's that? And the hook trapped in brains. Bunning] Huh? Okay, because up, Mr. Krabs.\r\n",
            "Mr. Krabs: Pechupe. How luckybe ya The Flear and Patrick is a pineapple, with a mit of a Krabby Patty] Ahh! Maybe the Bikiny not atraments...\r\n",
            "Squidward: [holds up another bubblemela are closed by the conses, which one of the chif slamoring, hitting sutting in the morey \n"
          ],
          "name": "stdout"
        }
      ]
    },
    {
      "cell_type": "markdown",
      "metadata": {
        "id": "DF38rbl-EdKi",
        "colab_type": "text"
      },
      "source": [
        "As we cann see, the output generated is barely comprehensible. However, we need to keep in mind that this is a character-based RNN, ie. that when the training started, it did not know what words were (see the predictions from untrained model).\n",
        "\n",
        "However, to (my) satisfaction, the RNN has atleast been able to get most of the names correct and in the format of the transcript (square-brackets showing feelings, etc).\n",
        "\n",
        "The model took 4.5 hours to train on a Google Colab GPU (without acceleration). \n",
        "For more accurate results, the easiest way would be to increase the number of epochs (30, 50...) or mess with the temperature setting"
      ]
    },
    {
      "cell_type": "code",
      "metadata": {
        "id": "8qrbCksCjYdL",
        "colab_type": "code",
        "colab": {}
      },
      "source": [
        ""
      ],
      "execution_count": 0,
      "outputs": []
    }
  ]
}